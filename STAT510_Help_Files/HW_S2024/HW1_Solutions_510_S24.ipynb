{
  "cells": [
    {
      "cell_type": "raw",
      "metadata": {},
      "source": [
        "---\n",
        "title: STAT 510 HW1 Sp24\n",
        "format: html\n",
        "---"
      ],
      "id": "5d95b4cc"
    },
    {
      "cell_type": "markdown",
      "metadata": {},
      "source": [
        "HW1\n",
        "\n",
        "1.7, 1.20,1.24, 1.33,2.5, 2.14\n"
      ],
      "id": "0a63205e"
    },
    {
      "cell_type": "code",
      "metadata": {},
      "source": [
        "library(readr)\n",
        "library(dplyr)\n",
        "library(plotly)"
      ],
      "id": "7c43de1f",
      "execution_count": null,
      "outputs": []
    },
    {
      "cell_type": "code",
      "metadata": {},
      "source": [
        "knitr::opts_knit$set(root.dir = '/Users/kagbasuaray/Desktop/CSULB/Classes/510/STAT510_Code/KutnerData/Chapter 1 Data Sets')"
      ],
      "id": "570bd27c",
      "execution_count": null,
      "outputs": []
    },
    {
      "cell_type": "markdown",
      "metadata": {},
      "source": [
        "#1.7\n",
        "\n",
        "![](images/clipboard-1149071201.png)\n",
        "\n",
        "a\\. The probability cannot be found because there is no distribution associated with $Y$.\n",
        "\n",
        "b\\. In this context, $Y\\sim N(\\beta_0+\\beta_1 x,\\sigma^2)$, i.e. $Y\\sim N(200,25)$ thus $P(195<Y<205) = P(\\frac{195-200}{5}<\\frac{Y-\\mu}{\\sigma}<\\frac{205-200}{5})=P(-1<Y<1)=$\n"
      ],
      "id": "c83ca144"
    },
    {
      "cell_type": "code",
      "metadata": {},
      "source": [
        "pnorm(1)-pnorm(-1)"
      ],
      "id": "a62e8b52",
      "execution_count": null,
      "outputs": []
    },
    {
      "cell_type": "markdown",
      "metadata": {},
      "source": [
        "#1.20\n",
        "\n",
        "![](images/clipboard-3650765180.png)\n",
        "\n",
        "![](images/clipboard-1702799500.png)\n"
      ],
      "id": "b5ba42da"
    },
    {
      "cell_type": "code",
      "metadata": {},
      "source": [
        "CH01PR20 <- read_table(\"CH01PR20.txt\", col_names = FALSE)    #This code imports the data"
      ],
      "id": "4df97415",
      "execution_count": null,
      "outputs": []
    },
    {
      "cell_type": "code",
      "metadata": {},
      "source": [
        "df<-CH01PR20\n",
        "response<-CH01PR20$X1\n",
        "explanatory<-CH01PR20$X2\n",
        "\n",
        "\n",
        "# Fit the model\n",
        "simpleLR_fit = lm(response~explanatory)\n",
        "print(summary(simpleLR_fit))\n",
        "\n",
        "# Create the scatterplot with a line of best fit\n",
        "scatter_plot <- plot_ly(data=df, x = ~explanatory, y = ~response, mode = \"markers\", type = \"scatter\", name = \"Data\") %>%  \n",
        "\n",
        "    add_trace(mode = \"lines\", type = \"scatter\", line = list(color = \"red\"), y = lm(response~explanatory,data=df)$fitted.values, name = \"Line of Best Fit\") %>%\n",
        "  layout(title = \"Scatterplot with Line of Best Fit\",\n",
        "         xaxis = list(title = \"X-Axis Label\"),\n",
        "         yaxis = list(title = \"Y-Axis Label\"))\n",
        "\n",
        "# Print the plot\n",
        "print(scatter_plot)"
      ],
      "id": "8d564b13",
      "execution_count": null,
      "outputs": []
    },
    {
      "cell_type": "markdown",
      "metadata": {},
      "source": [
        "The regression function seems to fit the data well.\n",
        "\n",
        "![](images/clipboard-2957343199.png)\n",
        "\n",
        "We expect a total of -0.5802 minutes of service for a service person that fixed 0 copy machines. This does not make sense.\n",
        "\n",
        "![](images/clipboard-4293285359.png){width=\"417\" height=\"18\"}\n",
        "\n",
        "$\\mu_h = 15.0352*5-0.5802 =$\n"
      ],
      "id": "27f861d7"
    },
    {
      "cell_type": "code",
      "metadata": {},
      "source": [
        "15.0352*5-0.5802"
      ],
      "id": "cbc3b2a7",
      "execution_count": null,
      "outputs": []
    },
    {
      "cell_type": "markdown",
      "metadata": {},
      "source": [
        "#1.24\n",
        "\n",
        "![](images/clipboard-195297371.png)\n"
      ],
      "id": "26aa549c"
    },
    {
      "cell_type": "code",
      "metadata": {},
      "source": [
        "simpleLR_fit$residuals\n",
        "sum((simpleLR_fit$residuals)^2) #The sum of squared residuals minimizes $Q$."
      ],
      "id": "55671918",
      "execution_count": null,
      "outputs": []
    },
    {
      "cell_type": "markdown",
      "metadata": {},
      "source": [
        "![](images/clipboard-4026278483.png){width=\"332\" height=\"21\"}\n",
        "\n",
        "The point estimate for $\\sigma^2$ is $MSE=\\frac{\\sum e_i^2}{n-2}$ which can be found as follows:\n"
      ],
      "id": "10746a2e"
    },
    {
      "cell_type": "code",
      "metadata": {},
      "source": [
        "sum((simpleLR_fit$residuals)^2)/(dim(df)[1]-2)"
      ],
      "id": "d297ac08",
      "execution_count": null,
      "outputs": []
    },
    {
      "cell_type": "markdown",
      "metadata": {},
      "source": [
        "$\\sigma$ is in the units of $y$, minutes.\n",
        "\n",
        "#1.33\n",
        "\n",
        "![](images/clipboard-983851142.png)\n",
        "\n",
        "We want to minimize\n",
        "\n",
        "$S(\\beta_0)=\\sum_{i=1}^n (y_i-\\beta_0)^2$ .\n",
        "\n",
        "Taking the derivative with respect to $\\beta_0$ and setting equal to 0, we get\n",
        "\n",
        "$S'(\\beta_0)=2\\sum_{i=1}^n (y_i-\\beta_0)=0$ .\n",
        "\n",
        "Thus\n",
        "\n",
        "$\\sum_{i=1}^n y_i-n\\beta_0$\n",
        "\n",
        "and $b_0=\\bar{y}$.\n",
        "\n",
        "#2.5\n",
        "\n",
        "![](images/clipboard-995627813.png)\n"
      ],
      "id": "4a2af4ec"
    },
    {
      "cell_type": "code",
      "metadata": {},
      "source": [
        "confint(simpleLR_fit,level=0.90)"
      ],
      "id": "5558dc61",
      "execution_count": null,
      "outputs": []
    },
    {
      "cell_type": "markdown",
      "metadata": {},
      "source": [
        "We are 90% confident that the true slope that characterizes the relationship between number of copiers serviced and mean service time is between 14.22 and 15.85.\n",
        "\n",
        "![](images/clipboard-4093707822.png)\n",
        "\n",
        "As usual, our test is $H_0:\\beta_1=0$ vs $H_1:\\beta_1\\neq 0$. We will reject the null if our p-value is less than $\\alpha=0.10$. The p-value above is $2*10^{-16}$. Thus we strongly reject the null.\n",
        "\n",
        "![](images/clipboard-3532793322.png){width=\"313\"}\n",
        "\n",
        "Yes. The confidence interval does not contain 0, which matches rejecting the null.\n",
        "\n",
        "![](images/clipboard-888380898.png)\n",
        "\n",
        "Here our test is $H_0:\\beta_1=14$ vs $H_1:\\beta_1>14$. Our test statistic is $T=\\frac{b_1-\\beta_1,null}{s(b_1)}=$\n"
      ],
      "id": "25c5b11b"
    },
    {
      "cell_type": "code",
      "metadata": {},
      "source": [
        "(15.0352-14)/0.4831"
      ],
      "id": "dc3bac62",
      "execution_count": null,
      "outputs": []
    },
    {
      "cell_type": "markdown",
      "metadata": {},
      "source": [
        "Thus the p-value is $P(T_{43}>2.142828)$\n"
      ],
      "id": "3520eeeb"
    },
    {
      "cell_type": "code",
      "metadata": {},
      "source": [
        "pt(2.142828,df=43,lower.tail = F)"
      ],
      "id": "19a6e7f8",
      "execution_count": null,
      "outputs": []
    },
    {
      "cell_type": "markdown",
      "metadata": {},
      "source": [
        "This value is less than $0.05$ so we reject $H_0$. This violates the manufacturer's claim.\n",
        "\n",
        "![](images/clipboard-3732187638.png)\n",
        "\n",
        "This could potentially be the case for a different set of data, but not in this case. Two facts in our linear model output are working against it. First of all, the value of $b_0$ is negative, which is not permitted for time. Next, the p-value for the hypothesis test $H_0:\\beta_0=0$ vs $H_1:\\beta_0\\neq 0$ is 0.837, indicating results that are not significant.\n",
        "\n",
        "#2.14\n",
        "\n",
        "![](images/clipboard-2209018955.png)\n"
      ],
      "id": "14b82e9d"
    },
    {
      "cell_type": "code",
      "metadata": {},
      "source": [
        "#Create a data frame with new explanatory values\n",
        "newdata<-data.frame(explanatory=c(6))\n",
        "print(\"Fitted value, lower and upper bounds for confidence interval\")\n",
        "predict(simpleLR_fit,newdata,interval=\"confidence\",level = .90)"
      ],
      "id": "60ac0114",
      "execution_count": null,
      "outputs": []
    },
    {
      "cell_type": "markdown",
      "metadata": {},
      "source": [
        "![](images/clipboard-2860601440.png)\n"
      ],
      "id": "8c0df619"
    },
    {
      "cell_type": "code",
      "metadata": {},
      "source": [
        "#Create a data frame with new explanatory values\n",
        "newdata<-data.frame(explanatory=c(6))\n",
        "print(\"Fitted value, lower and upper bounds for confidence interval\")\n",
        "predict(simpleLR_fit,newdata,interval=\"predict\",level = .90)"
      ],
      "id": "01f0b08a",
      "execution_count": null,
      "outputs": []
    },
    {
      "cell_type": "markdown",
      "metadata": {},
      "source": [
        "Wider than a. on both sides, as they should be. Additive factor is about 13.\n",
        "\n",
        "![](images/clipboard-2310503734.png)\n",
        "\n",
        "Confidence interval from part a. was (87.28387,91.97880), for 6 copiers. To get the per-call times, we simply divide the limits by 6:\n"
      ],
      "id": "a1f82e36"
    },
    {
      "cell_type": "code",
      "metadata": {},
      "source": [
        "c(87.28387,91.97880)/6"
      ],
      "id": "b08ec5e2",
      "execution_count": null,
      "outputs": []
    },
    {
      "cell_type": "markdown",
      "metadata": {},
      "source": [
        "![](images/clipboard-3085724746.png)\n"
      ],
      "id": "52abbda1"
    },
    {
      "cell_type": "code",
      "metadata": {},
      "source": [
        "pf120 = predict(simpleLR_fit,newdata)\n",
        "pf120"
      ],
      "id": "846500ec",
      "execution_count": null,
      "outputs": []
    },
    {
      "cell_type": "code",
      "metadata": {},
      "source": [
        "n<-dim(df)[1]\n",
        "alpha<-0.1\n",
        "xh<-6\n",
        "W<-(2*qf(1-alpha,2,n-2))^0.5\n",
        "MSE<-sum(simpleLR_fit$residuals^2)/(n-2)\n",
        "kxx<-sum((explanatory-mean(explanatory))^2)\n",
        "\n",
        "print(\"Lower limit\")\n",
        "pf120[1]-W*(MSE*(1/n+(xh-mean(explanatory))^2/kxx))^.5\n",
        "\n",
        "print(\"Upper limit\")\n",
        "pf120[1]+W*(MSE*(1/n+(xh-mean(explanatory))^2/kxx))^.5"
      ],
      "id": "70418585",
      "execution_count": null,
      "outputs": []
    },
    {
      "cell_type": "markdown",
      "metadata": {},
      "source": [
        "Wider than a. on both sides, as they should be. Additive factor is about 2."
      ],
      "id": "48eb9cec"
    }
  ],
  "metadata": {
    "kernelspec": {
      "name": "ir",
      "language": "R",
      "display_name": "R"
    }
  },
  "nbformat": 4,
  "nbformat_minor": 5
}